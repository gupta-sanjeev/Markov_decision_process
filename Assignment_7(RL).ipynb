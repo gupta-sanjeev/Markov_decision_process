{
 "cells": [
  {
   "cell_type": "code",
   "execution_count": 66,
   "metadata": {
    "id": "GszIe2lMxCSP"
   },
   "outputs": [
    {
     "name": "stdout",
     "output_type": "stream",
     "text": [
      "Transition probability parameter f: [0.3307935]\n",
      "Transition probability parameter m: [0.35193915]\n",
      "Transition probability parameter s: [0.27682977]\n",
      "Discounting factor gamma: [0.97102987]\n"
     ]
    }
   ],
   "source": [
    "import numpy as np\n",
    "#Enter the sum of digits in your enrollment number as seed\n",
    "\n",
    "\n",
    "def environment(seed):\n",
    "  np.random.seed(26)\n",
    "  f = np.random.uniform(0.3,0.4,1)\n",
    "  m = np.random.uniform(0.3,0.4,1)\n",
    "  s = np.random.uniform(0.2,0.3,1)\n",
    "  gamma = np.random.uniform(0.9,0.99,1)\n",
    "  return f, m, s, gamma\n",
    "\n",
    "\n",
    "f,m,s,gamma = environment(seed)\n",
    "print('Transition probability parameter f:', f)\n",
    "print('Transition probability parameter m:', m)\n",
    "print('Transition probability parameter s:', s)\n",
    "print('Discounting factor gamma:', gamma)\n"
   ]
  },
  {
   "cell_type": "code",
   "execution_count": 67,
   "metadata": {},
   "outputs": [],
   "source": [
    "import pandas as pd"
   ]
  },
  {
   "cell_type": "code",
   "execution_count": 68,
   "metadata": {},
   "outputs": [],
   "source": [
    "g = float(gamma[0])"
   ]
  },
  {
   "cell_type": "code",
   "execution_count": 69,
   "metadata": {},
   "outputs": [],
   "source": [
    "# States: Standing, Moving, Falling\n",
    "\n",
    "# Actions: Slow action: Black, Fast action: Blue"
   ]
  },
  {
   "cell_type": "code",
   "execution_count": 70,
   "metadata": {},
   "outputs": [],
   "source": [
    "prob = np.array([[[0,1,0],\n",
    "                  [0,1,0],\n",
    "                  [f[0],0,1-f[0]]],\n",
    "                 [[0,1-s[0],s[0]],\n",
    "                  [0,1-m[0],m[0]],\n",
    "                  [0,0,0]]])"
   ]
  },
  {
   "cell_type": "code",
   "execution_count": 71,
   "metadata": {
    "id": "VeHXIOxVyF_h"
   },
   "outputs": [],
   "source": [
    "reward = np.array([[[0.,1.,0.],\n",
    "                    [0.,1.,0.],\n",
    "                    [1.,0.,-1.]],\n",
    "                   [[0.,2.,-1.],\n",
    "                    [0.,2.,-1.],\n",
    "                    [0.,0.,0.]]])"
   ]
  },
  {
   "cell_type": "code",
   "execution_count": 72,
   "metadata": {},
   "outputs": [
    {
     "data": {
      "text/plain": [
       "array([[[0.        , 1.        , 0.        ],\n",
       "        [0.        , 1.        , 0.        ],\n",
       "        [0.3307935 , 0.        , 0.6692065 ]],\n",
       "\n",
       "       [[0.        , 0.72317023, 0.27682977],\n",
       "        [0.        , 0.64806085, 0.35193915],\n",
       "        [0.        , 0.        , 0.        ]]])"
      ]
     },
     "execution_count": 72,
     "metadata": {},
     "output_type": "execute_result"
    }
   ],
   "source": [
    "prob"
   ]
  },
  {
   "cell_type": "code",
   "execution_count": 82,
   "metadata": {},
   "outputs": [
    {
     "data": {
      "text/plain": [
       "array([[[ 0.,  1.,  0.],\n",
       "        [ 0.,  1.,  0.],\n",
       "        [ 1.,  0., -1.]],\n",
       "\n",
       "       [[ 0.,  2., -1.],\n",
       "        [ 0.,  2., -1.],\n",
       "        [ 0.,  0.,  0.]]])"
      ]
     },
     "execution_count": 82,
     "metadata": {},
     "output_type": "execute_result"
    }
   ],
   "source": [
    "reward\n"
   ]
  },
  {
   "cell_type": "markdown",
   "metadata": {},
   "source": [
    "# 1 Optimal value function"
   ]
  },
  {
   "cell_type": "code",
   "execution_count": 78,
   "metadata": {},
   "outputs": [],
   "source": [
    "v = np.ones(3)\n",
    "v_n = np.zeros(3)\n",
    "p=0\n",
    "while v[0]!=v_n[0] or v[1]!=v_n[1] or v[2]!=v_n[2]:\n",
    "    v = v_n\n",
    "    p+=1\n",
    "    v_n = value_iteration(prob,reward,v,g)\n",
    "    \n",
    "    \n",
    "def value_iteration(prob,reward,v,g):\n",
    "    v1_black, v1_blue = 0,0\n",
    "    v2_black, v2_blue = 0,0\n",
    "    v3_black, v3_blue = 0,0\n",
    "    v_new = []\n",
    "    for i in range(3):\n",
    "        v1_black += prob[0][0][i]*(reward[0][0][i]+g*v[i])\n",
    "        v1_blue += prob[1][0][i]*(reward[1][0][i]+g*v[i])\n",
    "        v2_black += prob[0][1][i]*(reward[0][1][i]+g*v[i])\n",
    "        v2_blue += prob[1][1][i]*(reward[1][1][i]+g*v[i])\n",
    "        v3_black += prob[0][2][i]*(reward[0][2][i]+g*v[i])\n",
    "        v3_blue += prob[1][2][i]*(reward[1][2][i]+g*v[i])\n",
    "    \n",
    "    v_new.append(max(v1_black,v1_blue))\n",
    "    v_new.append(max(v2_black,v2_blue))\n",
    "    v_new.append(max(v3_black,v3_blue))\n",
    "    \n",
    "    return v_new"
   ]
  },
  {
   "cell_type": "code",
   "execution_count": 79,
   "metadata": {},
   "outputs": [
    {
     "name": "stdout",
     "output_type": "stream",
     "text": [
      "Optimal policy:  [34.51830802077721, 34.51830802077721, 30.696241914446126]\n",
      "Number of times iteration will be done 1131\n"
     ]
    }
   ],
   "source": [
    "print(\"Optimal policy: \", v_n)\n",
    "print(f\"Number of times iteration will be done {p}\")"
   ]
  },
  {
   "cell_type": "markdown",
   "metadata": {},
   "source": [
    "# 2 Optimal action value function"
   ]
  },
  {
   "cell_type": "code",
   "execution_count": 32,
   "metadata": {},
   "outputs": [],
   "source": [
    "def q_value(prob,reward,g,v):\n",
    "    q = np.zeros((2,3))\n",
    "    for i in range(3):\n",
    "        for j in range(2):\n",
    "            for k in range(3):\n",
    "                q[j][i] += prob[j][i][k]*(reward[j][i][k]+g*v[k])\n",
    "    return q"
   ]
  },
  {
   "cell_type": "code",
   "execution_count": 18,
   "metadata": {},
   "outputs": [],
   "source": [
    "data = q_value(prob,reward,g,v_n)"
   ]
  },
  {
   "cell_type": "code",
   "execution_count": 19,
   "metadata": {},
   "outputs": [],
   "source": [
    "cols = ['Q(s1,a)','Q(s2,a)','Q(s3,a)']"
   ]
  },
  {
   "cell_type": "code",
   "execution_count": 20,
   "metadata": {},
   "outputs": [],
   "source": [
    "df = pd.DataFrame(data = data, index = ['Black','Blue'], columns = cols)"
   ]
  },
  {
   "cell_type": "code",
   "execution_count": 86,
   "metadata": {},
   "outputs": [
    {
     "data": {
      "text/html": [
       "<div>\n",
       "<style scoped>\n",
       "    .dataframe tbody tr th:only-of-type {\n",
       "        vertical-align: middle;\n",
       "    }\n",
       "\n",
       "    .dataframe tbody tr th {\n",
       "        vertical-align: top;\n",
       "    }\n",
       "\n",
       "    .dataframe thead th {\n",
       "        text-align: right;\n",
       "    }\n",
       "</style>\n",
       "<table border=\"1\" class=\"dataframe\">\n",
       "  <thead>\n",
       "    <tr style=\"text-align: right;\">\n",
       "      <th></th>\n",
       "      <th>Q(s1,a)</th>\n",
       "      <th>Q(s2,a)</th>\n",
       "      <th>Q(s3,a)</th>\n",
       "    </tr>\n",
       "  </thead>\n",
       "  <tbody>\n",
       "    <tr>\n",
       "      <th>Black</th>\n",
       "      <td>34.518308</td>\n",
       "      <td>34.518308</td>\n",
       "      <td>30.696242</td>\n",
       "    </tr>\n",
       "    <tr>\n",
       "      <th>Blue</th>\n",
       "      <td>33.660409</td>\n",
       "      <td>33.156325</td>\n",
       "      <td>0.000000</td>\n",
       "    </tr>\n",
       "  </tbody>\n",
       "</table>\n",
       "</div>"
      ],
      "text/plain": [
       "         Q(s1,a)    Q(s2,a)    Q(s3,a)\n",
       "Black  34.518308  34.518308  30.696242\n",
       "Blue   33.660409  33.156325   0.000000"
      ]
     },
     "execution_count": 86,
     "metadata": {},
     "output_type": "execute_result"
    }
   ],
   "source": [
    "df"
   ]
  },
  {
   "cell_type": "markdown",
   "metadata": {},
   "source": [
    "# 3 Optimal policy"
   ]
  },
  {
   "cell_type": "code",
   "execution_count": 87,
   "metadata": {},
   "outputs": [],
   "source": [
    "def optimal_policy(q):\n",
    "    op = []\n",
    "    for i in range(3):\n",
    "        if q[0][i]>q[1][i]:\n",
    "            op.append('Black')\n",
    "        else:\n",
    "            op.append('Blue')\n",
    "    return op"
   ]
  },
  {
   "cell_type": "code",
   "execution_count": 88,
   "metadata": {},
   "outputs": [
    {
     "name": "stdout",
     "output_type": "stream",
     "text": [
      "Optimal policy:  ['Black', 'Black', 'Black']\n"
     ]
    }
   ],
   "source": [
    "op = optimal_policy(data)\n",
    "print(\"Optimal policy: \", op)"
   ]
  },
  {
   "cell_type": "markdown",
   "metadata": {},
   "source": [
    "# 4 Optimal Value function"
   ]
  },
  {
   "cell_type": "code",
   "execution_count": 89,
   "metadata": {},
   "outputs": [],
   "source": [
    "v = np.zeros((3,3))\n",
    "rhs = np.zeros(3)\n",
    "lhs = np.zeros((3,3))\n",
    "for i in range(3):\n",
    "    v[0][i] = prob[0][0][i]\n",
    "    v[1][i] = prob[0][1][i]\n",
    "    v[2][i] = prob[0][2][i]\n",
    "    rhs[0] += prob[0][0][i]*reward[0][0][i]\n",
    "    rhs[1] += prob[0][1][i]*reward[0][1][i]\n",
    "    rhs[2] += prob[0][2][i]*reward[0][2][i]\n",
    "lhs = np.identity(3)-g*v\n",
    "x = np.linalg.solve(lhs,rhs)"
   ]
  },
  {
   "cell_type": "code",
   "execution_count": 90,
   "metadata": {},
   "outputs": [
    {
     "data": {
      "text/plain": [
       "array([34.51830802, 34.51830802, 30.69624191])"
      ]
     },
     "execution_count": 90,
     "metadata": {},
     "output_type": "execute_result"
    }
   ],
   "source": [
    "x"
   ]
  },
  {
   "cell_type": "code",
   "execution_count": 91,
   "metadata": {},
   "outputs": [
    {
     "name": "stdout",
     "output_type": "stream",
     "text": [
      "Optimal policy:  [34.51830802 34.51830802 30.69624191]\n"
     ]
    }
   ],
   "source": [
    "print(\"Optimal policy: \", x)"
   ]
  }
 ],
 "metadata": {
  "colab": {
   "name": "Environment.ipynb",
   "provenance": []
  },
  "kernelspec": {
   "display_name": "Python 3 (ipykernel)",
   "language": "python",
   "name": "python3"
  },
  "language_info": {
   "codemirror_mode": {
    "name": "ipython",
    "version": 3
   },
   "file_extension": ".py",
   "mimetype": "text/x-python",
   "name": "python",
   "nbconvert_exporter": "python",
   "pygments_lexer": "ipython3",
   "version": "3.9.12"
  }
 },
 "nbformat": 4,
 "nbformat_minor": 4
}
