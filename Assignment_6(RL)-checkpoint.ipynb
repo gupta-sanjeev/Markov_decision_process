{
 "cells": [
  {
   "cell_type": "markdown",
   "metadata": {},
   "source": [
    "Sanjeev Gupta 22565015\n"
   ]
  },
  {
   "cell_type": "code",
   "execution_count": 1,
   "metadata": {
    "id": "GszIe2lMxCSP"
   },
   "outputs": [
    {
     "name": "stdout",
     "output_type": "stream",
     "text": [
      "Transition probability parameter p: [0.29238049]\n",
      "Transition probability parameter q: [0.75969574]\n",
      "Transition probability parameter r: [0.48841488]\n",
      "Transition probability parameter s: [0.81568829]\n",
      "Discounting factor gamma: [0.97835059]\n"
     ]
    }
   ],
   "source": [
    "\n",
    "import numpy as np\n",
    "import pandas as pd\n",
    "#Enter the sum of digits in your enrollment number as seed\n",
    "# roll no - 22565015\n",
    "\n",
    "def environment(seed):\n",
    "  np.random.seed(26)\n",
    "  p = np.random.uniform(0.2,0.5,1)\n",
    "  q = np.random.uniform(0.5,1,1)\n",
    "  r = np.random.uniform(0.45,0.5,1)\n",
    "  s = np.random.uniform(0.5,0.9,1)\n",
    "  gamma = np.random.uniform(0.9,0.99,1)\n",
    "  return p, q, r, s, gamma\n",
    "\n",
    "seed = 25\n",
    "p,q,r,s,gamma = environment(seed)\n",
    "print('Transition probability parameter p:', p)\n",
    "print('Transition probability parameter q:', q)\n",
    "print('Transition probability parameter r:', r)\n",
    "print('Transition probability parameter s:', s)\n",
    "print('Discounting factor gamma:', gamma)\n"
   ]
  },
  {
   "cell_type": "code",
   "execution_count": 2,
   "metadata": {},
   "outputs": [
    {
     "name": "stdout",
     "output_type": "stream",
     "text": [
      "policie 1 : ['Work', 'Work', 'Work']\n",
      "policie 2 : ['Work', 'Work', 'Sleep']\n",
      "policie 3 : ['Work', 'Work', 'Gym']\n",
      "policie 4 : ['Work', 'Sleep', 'Work']\n",
      "policie 5 : ['Work', 'Sleep', 'Sleep']\n",
      "policie 6 : ['Work', 'Sleep', 'Gym']\n",
      "policie 7 : ['Work', 'Gym', 'Work']\n",
      "policie 8 : ['Work', 'Gym', 'Sleep']\n",
      "policie 9 : ['Work', 'Gym', 'Gym']\n",
      "policie 10 : ['Sleep', 'Work', 'Work']\n",
      "policie 11 : ['Sleep', 'Work', 'Sleep']\n",
      "policie 12 : ['Sleep', 'Work', 'Gym']\n",
      "policie 13 : ['Sleep', 'Sleep', 'Work']\n",
      "policie 14 : ['Sleep', 'Sleep', 'Sleep']\n",
      "policie 15 : ['Sleep', 'Sleep', 'Gym']\n",
      "policie 16 : ['Sleep', 'Gym', 'Work']\n",
      "policie 17 : ['Sleep', 'Gym', 'Sleep']\n",
      "policie 18 : ['Sleep', 'Gym', 'Gym']\n",
      "policie 19 : ['Gym', 'Work', 'Work']\n",
      "policie 20 : ['Gym', 'Work', 'Sleep']\n",
      "policie 21 : ['Gym', 'Work', 'Gym']\n",
      "policie 22 : ['Gym', 'Sleep', 'Work']\n",
      "policie 23 : ['Gym', 'Sleep', 'Sleep']\n",
      "policie 24 : ['Gym', 'Sleep', 'Gym']\n",
      "policie 25 : ['Gym', 'Gym', 'Work']\n",
      "policie 26 : ['Gym', 'Gym', 'Sleep']\n",
      "policie 27 : ['Gym', 'Gym', 'Gym']\n"
     ]
    }
   ],
   "source": [
    "#policies\n",
    "actions = ['Work', 'Sleep', 'Gym']\n",
    "policies =[]\n",
    "\n",
    "for i in range(len(actions)):\n",
    "    for j in range(len(actions)):\n",
    "        for k in range(len(actions)):\n",
    "            policies.append([actions[i],actions[j],actions[k]])\n",
    "\n",
    "for i in range(len(policies)):\n",
    "    print(f\"policie {i+1} : {policies[i]}\")"
   ]
  },
  {
   "cell_type": "code",
   "execution_count": 3,
   "metadata": {},
   "outputs": [
    {
     "name": "stdout",
     "output_type": "stream",
     "text": [
      "[0.70761951]\n",
      "[0.24030426]\n",
      "[0.51158512]\n",
      "[0.18431171]\n"
     ]
    }
   ],
   "source": [
    "print(1-p)\n",
    "print(1-q)\n",
    "print(1-r)\n",
    "print(1-s)"
   ]
  },
  {
   "cell_type": "code",
   "execution_count": 4,
   "metadata": {},
   "outputs": [
    {
     "name": "stdout",
     "output_type": "stream",
     "text": [
      "Enter transition prob value for ('Tired', 'Work', 'Tired')\n",
      "1\n",
      "Enter transition prob value for ('Tired', 'Work', 'Energetic')\n",
      "0\n",
      "Enter transition prob value for ('Tired', 'Work', 'Healthier')\n",
      "0\n",
      "Enter transition prob value for ('Tired', 'Sleep', 'Tired')\n",
      "0.24030426\n",
      "Enter transition prob value for ('Tired', 'Sleep', 'Energetic')\n",
      "0.75969574\n",
      "Enter transition prob value for ('Tired', 'Sleep', 'Healthier')\n",
      "0\n",
      "Enter transition prob value for ('Tired', 'Gym', 'Tired')\n",
      "0.48841488\n",
      "Enter transition prob value for ('Tired', 'Gym', 'Energetic')\n",
      "0.51158512\n",
      "Enter transition prob value for ('Tired', 'Gym', 'Healthier')\n",
      "0\n",
      "Enter transition prob value for ('Energetic', 'Work', 'Tired')\n",
      "0.70761951\n",
      "Enter transition prob value for ('Energetic', 'Work', 'Energetic')\n",
      "0.29238049\n",
      "Enter transition prob value for ('Energetic', 'Work', 'Healthier')\n",
      "0\n",
      "Enter transition prob value for ('Energetic', 'Sleep', 'Tired')\n",
      "0\n",
      "Enter transition prob value for ('Energetic', 'Sleep', 'Energetic')\n",
      "1\n",
      "Enter transition prob value for ('Energetic', 'Sleep', 'Healthier')\n",
      "0\n",
      "Enter transition prob value for ('Energetic', 'Gym', 'Tired')\n",
      "0\n",
      "Enter transition prob value for ('Energetic', 'Gym', 'Energetic')\n",
      "0\n",
      "Enter transition prob value for ('Energetic', 'Gym', 'Healthier')\n",
      "1\n",
      "Enter transition prob value for ('Healthier', 'Work', 'Tired')\n",
      "1\n",
      "Enter transition prob value for ('Healthier', 'Work', 'Energetic')\n",
      "0\n",
      "Enter transition prob value for ('Healthier', 'Work', 'Healthier')\n",
      "0\n",
      "Enter transition prob value for ('Healthier', 'Sleep', 'Tired')\n",
      "0\n",
      "Enter transition prob value for ('Healthier', 'Sleep', 'Energetic')\n",
      "0\n",
      "Enter transition prob value for ('Healthier', 'Sleep', 'Healthier')\n",
      "1\n",
      "Enter transition prob value for ('Healthier', 'Gym', 'Tired')\n",
      "0\n",
      "Enter transition prob value for ('Healthier', 'Gym', 'Energetic')\n",
      "0.18431171\n",
      "Enter transition prob value for ('Healthier', 'Gym', 'Healthier')\n",
      "0.81568829\n",
      "Enter reward value for ('Tired', 'Work', 'Tired')\n",
      "20\n",
      "Enter reward value for ('Tired', 'Work', 'Energetic')\n",
      "0\n",
      "Enter reward value for ('Tired', 'Work', 'Healthier')\n",
      "0\n",
      "Enter reward value for ('Tired', 'Sleep', 'Tired')\n",
      "0\n",
      "Enter reward value for ('Tired', 'Sleep', 'Energetic')\n",
      "0\n",
      "Enter reward value for ('Tired', 'Sleep', 'Healthier')\n",
      "0\n",
      "Enter reward value for ('Tired', 'Gym', 'Tired')\n",
      "-10\n",
      "Enter reward value for ('Tired', 'Gym', 'Energetic')\n",
      "10\n",
      "Enter reward value for ('Tired', 'Gym', 'Healthier')\n",
      "0\n",
      "Enter reward value for ('Energetic', 'Work', 'Tired')\n",
      "40\n",
      "Enter reward value for ('Energetic', 'Work', 'Energetic')\n",
      "30\n",
      "Enter reward value for ('Energetic', 'Work', 'Healthier')\n",
      "0\n",
      "Enter reward value for ('Energetic', 'Sleep', 'Tired')\n",
      "0\n",
      "Enter reward value for ('Energetic', 'Sleep', 'Energetic')\n",
      "0\n",
      "Enter reward value for ('Energetic', 'Sleep', 'Healthier')\n",
      "0\n",
      "Enter reward value for ('Energetic', 'Gym', 'Tired')\n",
      "0\n",
      "Enter reward value for ('Energetic', 'Gym', 'Energetic')\n",
      "0\n",
      "Enter reward value for ('Energetic', 'Gym', 'Healthier')\n",
      "-10\n",
      "Enter reward value for ('Healthier', 'Work', 'Tired')\n",
      "100\n",
      "Enter reward value for ('Healthier', 'Work', 'Energetic')\n",
      "0\n",
      "Enter reward value for ('Healthier', 'Work', 'Healthier')\n",
      "0\n",
      "Enter reward value for ('Healthier', 'Sleep', 'Tired')\n",
      "0\n",
      "Enter reward value for ('Healthier', 'Sleep', 'Energetic')\n",
      "0\n",
      "Enter reward value for ('Healthier', 'Sleep', 'Healthier')\n",
      "0\n",
      "Enter reward value for ('Healthier', 'Gym', 'Tired')\n",
      "0\n",
      "Enter reward value for ('Healthier', 'Gym', 'Energetic')\n",
      "15\n",
      "Enter reward value for ('Healthier', 'Gym', 'Healthier')\n",
      "10\n"
     ]
    }
   ],
   "source": [
    "\n",
    "# Transition probabilities inputs from MDP diagram\n",
    "\n",
    "Transition= {}\n",
    "for i in ('Tired','Energetic','Healthier'):\n",
    "    for j in ('Work', 'Sleep', 'Gym'):\n",
    "        for k in ('Tired','Energetic','Healthier'):\n",
    "            print(f\"Enter transition prob value for {i,j,k}\")\n",
    "            Transition[i,j,k] = float(input())\n",
    "# Rewards inputs from MDP diagram\n",
    "Reward= {}\n",
    "for i in ('Tired','Energetic','Healthier'):\n",
    "    for j in ('Work', 'Sleep', 'Gym'):\n",
    "        for k in ('Tired','Energetic','Healthier'):\n",
    "            print(f\"Enter reward value for {i,j,k}\")\n",
    "            Reward[i,j,k] = float(input())\n",
    "\n"
   ]
  },
  {
   "cell_type": "code",
   "execution_count": 5,
   "metadata": {},
   "outputs": [
    {
     "name": "stdout",
     "output_type": "stream",
     "text": [
      "Transition values are: \n",
      " {('Tired', 'Work', 'Tired'): 1.0, ('Tired', 'Work', 'Energetic'): 0.0, ('Tired', 'Work', 'Healthier'): 0.0, ('Tired', 'Sleep', 'Tired'): 0.24030426, ('Tired', 'Sleep', 'Energetic'): 0.75969574, ('Tired', 'Sleep', 'Healthier'): 0.0, ('Tired', 'Gym', 'Tired'): 0.48841488, ('Tired', 'Gym', 'Energetic'): 0.51158512, ('Tired', 'Gym', 'Healthier'): 0.0, ('Energetic', 'Work', 'Tired'): 0.70761951, ('Energetic', 'Work', 'Energetic'): 0.29238049, ('Energetic', 'Work', 'Healthier'): 0.0, ('Energetic', 'Sleep', 'Tired'): 0.0, ('Energetic', 'Sleep', 'Energetic'): 1.0, ('Energetic', 'Sleep', 'Healthier'): 0.0, ('Energetic', 'Gym', 'Tired'): 0.0, ('Energetic', 'Gym', 'Energetic'): 0.0, ('Energetic', 'Gym', 'Healthier'): 1.0, ('Healthier', 'Work', 'Tired'): 1.0, ('Healthier', 'Work', 'Energetic'): 0.0, ('Healthier', 'Work', 'Healthier'): 0.0, ('Healthier', 'Sleep', 'Tired'): 0.0, ('Healthier', 'Sleep', 'Energetic'): 0.0, ('Healthier', 'Sleep', 'Healthier'): 1.0, ('Healthier', 'Gym', 'Tired'): 0.0, ('Healthier', 'Gym', 'Energetic'): 0.18431171, ('Healthier', 'Gym', 'Healthier'): 0.81568829} \n",
      " Reward values are: \n",
      " {('Tired', 'Work', 'Tired'): 20.0, ('Tired', 'Work', 'Energetic'): 0.0, ('Tired', 'Work', 'Healthier'): 0.0, ('Tired', 'Sleep', 'Tired'): 0.0, ('Tired', 'Sleep', 'Energetic'): 0.0, ('Tired', 'Sleep', 'Healthier'): 0.0, ('Tired', 'Gym', 'Tired'): -10.0, ('Tired', 'Gym', 'Energetic'): 10.0, ('Tired', 'Gym', 'Healthier'): 0.0, ('Energetic', 'Work', 'Tired'): 40.0, ('Energetic', 'Work', 'Energetic'): 30.0, ('Energetic', 'Work', 'Healthier'): 0.0, ('Energetic', 'Sleep', 'Tired'): 0.0, ('Energetic', 'Sleep', 'Energetic'): 0.0, ('Energetic', 'Sleep', 'Healthier'): 0.0, ('Energetic', 'Gym', 'Tired'): 0.0, ('Energetic', 'Gym', 'Energetic'): 0.0, ('Energetic', 'Gym', 'Healthier'): -10.0, ('Healthier', 'Work', 'Tired'): 100.0, ('Healthier', 'Work', 'Energetic'): 0.0, ('Healthier', 'Work', 'Healthier'): 0.0, ('Healthier', 'Sleep', 'Tired'): 0.0, ('Healthier', 'Sleep', 'Energetic'): 0.0, ('Healthier', 'Sleep', 'Healthier'): 0.0, ('Healthier', 'Gym', 'Tired'): 0.0, ('Healthier', 'Gym', 'Energetic'): 15.0, ('Healthier', 'Gym', 'Healthier'): 10.0}\n"
     ]
    }
   ],
   "source": [
    "print(f\"Transition values are: \\n {Transition} \\n Reward values are: \\n {Reward}\")"
   ]
  },
  {
   "cell_type": "code",
   "execution_count": 10,
   "metadata": {},
   "outputs": [],
   "source": [
    "def MDP_bellman(gamma,Transition,Reward,policy):\n",
    "    row=0\n",
    "    A=np.zeros((3,3))\n",
    "    b=np.zeros((3,1))\n",
    "    for i,j in [('Tired',policy[0]),('Energetic',policy[1]),('Healthier',policy[2])]:\n",
    "        col =0\n",
    "        for k in ('Tired','Energetic','Healthier'):\n",
    "            if i==k:\n",
    "                A[row,col]= 1-gamma*Transition[i,j,k]    \n",
    "            else:\n",
    "                A[row,col]=-gamma*Transition[i,j,k]      \n",
    "            b[row]=b[row] + Transition[i,j,k]*Reward[i,j,k]     \n",
    "            col+=1\n",
    "        row+=1\n",
    "    X=np.linalg.solve(A,b)\n",
    "    return X[0].item(),X[1].item(),X[2].item()"
   ]
  },
  {
   "cell_type": "code",
   "execution_count": 11,
   "metadata": {},
   "outputs": [
    {
     "name": "stdout",
     "output_type": "stream",
     "text": [
      "                   Policy      V(Tired)  V(Energetic)   V(Healthy)  \\\n",
      "0      [Work, Work, Work]  9.238125e+02  9.477305e+02  1003.812518   \n",
      "1     [Work, Work, Sleep]  9.238125e+02  9.477305e+02     0.000000   \n",
      "2       [Work, Work, Gym]  9.238125e+02  9.477305e+02   900.217413   \n",
      "3     [Work, Sleep, Work]  9.238125e+02  0.000000e+00  1003.812518   \n",
      "4    [Work, Sleep, Sleep]  9.238125e+02  0.000000e+00     0.000000   \n",
      "5      [Work, Sleep, Gym]  9.238125e+02  5.258599e-16    54.074916   \n",
      "6       [Work, Gym, Work]  9.238125e+02  9.720806e+02  1003.812518   \n",
      "7      [Work, Gym, Sleep]  9.238125e+02 -1.000000e+01     0.000000   \n",
      "8        [Work, Gym, Gym]  9.238125e+02  3.391114e+02   356.836693   \n",
      "9     [Sleep, Work, Work]  8.735034e+02  8.989469e+02   954.592554   \n",
      "10   [Sleep, Work, Sleep]  8.735034e+02  8.989469e+02     0.000000   \n",
      "11     [Sleep, Work, Gym]  8.735034e+02  8.989469e+02   856.662982   \n",
      "12   [Sleep, Sleep, Work] -0.000000e+00  7.767466e-15   100.000000   \n",
      "13  [Sleep, Sleep, Sleep]  0.000000e+00  0.000000e+00     0.000000   \n",
      "14    [Sleep, Sleep, Gym]  5.109762e-16  5.258599e-16    54.074916   \n",
      "15     [Sleep, Gym, Work]  1.220640e+03  1.256195e+03  1294.213579   \n",
      "16    [Sleep, Gym, Sleep] -9.716963e+00 -1.000000e+01     0.000000   \n",
      "17      [Sleep, Gym, Gym]  3.295133e+02  3.391114e+02   356.836693   \n",
      "18      [Gym, Work, Work]  7.120867e+02  7.424249e+02   796.670440   \n",
      "19     [Gym, Work, Sleep]  7.120867e+02  7.424249e+02     0.000000   \n",
      "20       [Gym, Work, Gym]  7.120867e+02  7.424249e+02   716.918715   \n",
      "21     [Gym, Sleep, Work]  4.437392e-01  5.623351e-15   100.434132   \n",
      "22    [Gym, Sleep, Sleep]  4.437392e-01  0.000000e+00     0.000000   \n",
      "23      [Gym, Sleep, Gym]  4.437392e-01  5.258599e-16    54.074916   \n",
      "24       [Gym, Gym, Work]  1.025709e+03  1.069612e+03  1103.502552   \n",
      "25      [Gym, Gym, Sleep] -9.141647e+00 -1.000000e+01     0.000000   \n",
      "26        [Gym, Gym, Gym]  3.254951e+02  3.391114e+02   356.836693   \n",
      "\n",
      "      Sum_total  \n",
      "0   2875.355488  \n",
      "1   1871.542971  \n",
      "2   2771.760383  \n",
      "3   1927.625035  \n",
      "4    923.812518  \n",
      "5    977.887433  \n",
      "6   2899.705600  \n",
      "7    913.812518  \n",
      "8   1619.760598  \n",
      "9   2727.042819  \n",
      "10  1772.450265  \n",
      "11  2629.113247  \n",
      "12   100.000000  \n",
      "13     0.000000  \n",
      "14    54.074916  \n",
      "15  3771.047907  \n",
      "16   -19.716963  \n",
      "17  1025.461376  \n",
      "18  2251.182036  \n",
      "19  1454.511595  \n",
      "20  2171.430311  \n",
      "21   100.877872  \n",
      "22     0.443739  \n",
      "23    54.518655  \n",
      "24  3198.823461  \n",
      "25   -19.141647  \n",
      "26  1021.443193  \n"
     ]
    }
   ],
   "source": [
    "import pandas as pd\n",
    "df=pd.DataFrame(columns=['Policy','V(Tired)','V(Energetic)','V(Healthy)', 'Sum_total' ])\n",
    "i=0\n",
    "for policy in policies:\n",
    "  Temp =list(MDP_bellman(gamma,Transition,Reward,policy))\n",
    "  df.loc[i]=[policy, Temp[0],Temp[1],Temp[2], sum(Temp)]\n",
    "  i+=1\n",
    "print(df)"
   ]
  },
  {
   "cell_type": "code",
   "execution_count": 14,
   "metadata": {},
   "outputs": [
    {
     "name": "stdout",
     "output_type": "stream",
     "text": [
      "The index value with maximun value is : \n",
      " 15 15 15 15\n",
      "The optimal policy is : ['Sleep', 'Gym', 'Work']\n"
     ]
    }
   ],
   "source": [
    "index_V_Tired = df[\"V(Tired)\"].idxmax()\n",
    "index_V_Healthy = df[\"V(Healthy)\"].idxmax()\n",
    "index_V_Energetic = df[\"V(Energetic)\"].idxmax()\n",
    "index = df[\"Sum_total\"].idxmax()\n",
    "print(\"The index value with maximun value is : \\n\",index, index_V_Tired, index_V_Healthy, index_V_Energetic)\n",
    "print(\"The optimal policy is :\", df.Policy[index])"
   ]
  },
  {
   "cell_type": "code",
   "execution_count": null,
   "metadata": {},
   "outputs": [],
   "source": []
  }
 ],
 "metadata": {
  "colab": {
   "name": "Environment.ipynb",
   "provenance": []
  },
  "kernelspec": {
   "display_name": "Python 3 (ipykernel)",
   "language": "python",
   "name": "python3"
  },
  "language_info": {
   "codemirror_mode": {
    "name": "ipython",
    "version": 3
   },
   "file_extension": ".py",
   "mimetype": "text/x-python",
   "name": "python",
   "nbconvert_exporter": "python",
   "pygments_lexer": "ipython3",
   "version": "3.9.12"
  }
 },
 "nbformat": 4,
 "nbformat_minor": 4
}
